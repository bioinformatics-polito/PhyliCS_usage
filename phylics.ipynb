{
 "cells": [
  {
   "cell_type": "markdown",
   "metadata": {},
   "source": [
    "# PhyliCS: tutorial\n",
    "\n",
    "PhyliCS is a pipeline for **multi-sample** copy-number variation (CNV) analysis on\n",
    "**single-cell DNA** sequencing data. It allows to quantify **intra-tumor heterogeneity** and to investigate **temporal and spatial evolution** of tumors.\n",
    "\n",
    "Here, we will describe the main components of the pipeline and show how to use them to re-produce the use-cases presented in the Supplementary materials of our paper. Specifically, we will execute the second use-case *(Temporal evolution)* while we will, just, list the commands needed to reproduce the first one *(Spatial intra-tumor heterogeneity)*. \n",
    "\n",
    "## The pipeline\n",
    "\n",
    "PhyliCS is a command line program which can be executed by typing `phylics` followed by some arguments. In the following, we will describe the meaning of such arguments. \n",
    "\n",
    "**Execution modes (required)**\n",
    "\n",
    "One of the following execution modes MUST be specified.\n",
    "\n",
    "| Argument        | Description     |      \n",
    "| :------------- | :------------- | \n",
    "| `--run`      | Runs the three analysis steps (CNV calling, single-sample, multi-sample). | \n",
    "| `--run_10x_preproc` | Runs 10x data pre-processing module. Only single-sample execution is available for this option.|    \n",
    "| `--run_cell_filtering` | Runs the cell filtering module. Only single-sample execution is available for this option.  Note that at least one of the two options, \"--intervals\" and \"--values\", must contain values to make this command effective.|\n",
    "\n",
    "**Single-stage execution options**\n",
    "\n",
    "The following options may be specified to run only one of the pipeline analysis stages when executing the --run mode.\n",
    "\n",
    "| Argument | Description |\n",
    "| :------| :-----------|\n",
    "| `--run_cnv` | (*Optional* with `--run`) Runs only the CNV analysis. &nbsp;&nbsp;&nbsp;&nbsp;&nbsp;&nbsp;&nbsp;&nbsp;&nbsp;&nbsp;&nbsp;&nbsp;&nbsp;&nbsp;&nbsp;&nbsp;&nbsp;&nbsp;&nbsp;&nbsp;&nbsp;&nbsp;&nbsp;&nbsp;&nbsp;&nbsp;&nbsp;&nbsp;&nbsp;&nbsp;&nbsp;&nbsp;&nbsp;&nbsp;&nbsp;&nbsp;&nbsp;&nbsp;&nbsp;&nbsp;&nbsp;&nbsp;&nbsp;&nbsp;&nbsp;&nbsp;&nbsp;&nbsp;&nbsp;&nbsp;&nbsp;&nbsp;&nbsp;&nbsp;&nbsp;&nbsp;&nbsp;&nbsp;&nbsp;&nbsp;&nbsp;&nbsp;&nbsp;&nbsp;&nbsp;&nbsp;&nbsp;&nbsp;&nbsp;&nbsp;&nbsp;&nbsp;&nbsp;&nbsp;&nbsp;&nbsp;&nbsp;&nbsp;&nbsp;&nbsp;&nbsp;&nbsp;&nbsp;&nbsp;&nbsp;&nbsp;&nbsp;&nbsp;&nbsp;&nbsp;&nbsp;&nbsp;&nbsp;&nbsp;&nbsp;&nbsp;&nbsp;&nbsp;&nbsp;&nbsp;&nbsp;&nbsp;&nbsp;&nbsp;&nbsp;&nbsp;&nbsp;&nbsp;&nbsp;&nbsp;&nbsp;&nbsp;&nbsp;&nbsp;&nbsp;&nbsp;&nbsp;&nbsp;&nbsp;&nbsp;&nbsp;&nbsp;&nbsp;&nbsp;&nbsp;&nbsp;&nbsp;&nbsp;&nbsp;&nbsp;&nbsp;&nbsp;&nbsp;&nbsp;&nbsp;&nbsp;&nbsp;&nbsp;&nbsp;&nbsp;&nbsp;&nbsp;&nbsp;&nbsp;&nbsp;&nbsp;&nbsp;&nbsp;&nbsp;&nbsp;&nbsp;&nbsp;&nbsp;&nbsp;&nbsp;&nbsp;&nbsp;&nbsp;&nbsp;&nbsp;&nbsp;&nbsp;&nbsp;|\n",
    "| `--run_single` | (*Optional* with `--run`) Runs only the single-sample analysis. |\n",
    "| `--run_multiple` | (*Optional* with `--run`) Runs only the multiple-sample analysis. |\n",
    "\n",
    "**Other execution options**\n",
    "\n",
    "| Argument | Description |\n",
    "| :----- | :---------- | \n",
    "|`--input_dirs` | (*Required*)  List of couple of strings separated by \":\": each item of the  list corresponds to one input sample and specifies its name and the path to directory containing Ginkgo output files (`SegCopy`, `results.txt`). Note that sample name and input directory path cannot contain \":\". |\n",
    "|  `--method` | (*Optional*) Hierarchical clustering method (default = complete). |\n",
    "|  `--metric`  | (*Optional*) Distance metric for clustering. |\n",
    "|  `--output_path` | (*Required* if not `--run_cnv`) Path to the location where the output directories for the different analysis stages must be created. When running `--run_cnv` it is not necessary to specifiy the output path, since Ginkgo stores the output files in the the input directory itself. |\n",
    "|  `--output_prefix` | (*Optional*) A string to be pre-pended to the names automatically generated for the output directories.|\n",
    "|  `--tasks` | (*Optional*) Maximum number of tasks to be run in parallel. It allows to execute single-sample analyses in parallel and to parallelize the permutation test execution for the heterogeneity score computation. | \n",
    "|  `--seed` | (*Optional*) Seed to initialize the pseudo-random generator used to perform the permutation test. |\n",
    "|  `--n_permutations` | (*Optional*) Number of permutations to execute the permutation test for the heterogeneity score computation. |\n",
    "|  `--reclust` | (*Optional*) If this option is specified, only the clustering part is executed with the specified number of clusters (see --n_clusters option), unless --reinit option is specified. |\n",
    "|  `--reinit`  | (*Optional*) This option has effect only if combined with the --reclust option. It allows to recompute the entire analysis and then recluster with the specified number of clusters.|\n",
    "|  `--intervals`  | (*Required* with `--run_cell_filtering` if ` --values` not specified) List of of mean ploidy intervals. Cells which mean ploidies are in the specified ranges are filtered out\n",
    "|  `--values`  | (*Required* with `--run_cell_filtering` if ` --intervals` not specified) List of of mean ploidy values. Cells which mean ploidies are equal to the specified ones are filtered out. |\n",
    "|  `--genome`  | (*Required* with `--run` and `--run_cnvs`) Chosen genome. | \n",
    "|  `--binning` | (*Required* with `--run` and `--run_cnvs`) A complex value made of the concatenation of <ul><li> type: variable or fixed (bins. Variable refers to amount of mappable genome, recommended); </li><li> size: bin size; </li><li> read-length: mapped reads length; </li><li> aligner: bowtie or bwa. </li></ul> The read-length and aligner refer to the simulations of re-mapping reads of that length with that aligner on the whole genome. This is used to calculate bins of \"mappable\" (i.e. variable) genomDescriptione.The resulting value is the name of a file under ginkgo/genomes/$choosen_genome/original/ with the bin coordinates.|\n",
    "\n",
    "**Optional arguments**\n",
    "\n",
    "| Argument | Description |\n",
    "| :----- | :---------- | \n",
    "|`--verbose` | (*Optional*) Verbose execution. &nbsp;&nbsp;&nbsp;&nbsp;&nbsp;&nbsp;&nbsp;&nbsp;&nbsp;&nbsp;&nbsp;&nbsp;&nbsp;&nbsp;&nbsp;&nbsp;&nbsp;&nbsp;&nbsp;&nbsp;&nbsp;&nbsp;&nbsp;&nbsp;&nbsp;&nbsp;&nbsp;&nbsp;&nbsp;&nbsp;&nbsp;&nbsp;&nbsp;&nbsp;&nbsp;&nbsp;&nbsp;&nbsp;&nbsp;&nbsp;&nbsp;&nbsp;&nbsp;&nbsp;&nbsp;&nbsp;&nbsp;&nbsp;&nbsp;&nbsp;&nbsp;&nbsp;&nbsp;&nbsp;&nbsp;&nbsp;&nbsp;&nbsp;&nbsp;&nbsp;&nbsp;&nbsp;&nbsp;&nbsp;&nbsp;&nbsp;&nbsp;&nbsp;&nbsp;&nbsp;&nbsp;&nbsp;&nbsp;&nbsp;&nbsp;&nbsp;&nbsp;&nbsp;&nbsp;&nbsp;&nbsp;&nbsp;&nbsp;&nbsp;&nbsp;&nbsp;&nbsp;&nbsp;&nbsp;&nbsp;&nbsp;&nbsp;&nbsp;&nbsp;&nbsp;&nbsp;&nbsp;&nbsp;&nbsp;&nbsp;&nbsp;&nbsp;&nbsp;&nbsp;&nbsp;&nbsp;&nbsp;&nbsp;&nbsp;&nbsp;&nbsp;&nbsp;&nbsp;&nbsp;&nbsp;&nbsp;&nbsp;&nbsp;&nbsp;&nbsp;&nbsp;&nbsp;&nbsp;&nbsp;&nbsp;&nbsp;&nbsp;&nbsp;&nbsp;&nbsp;&nbsp;&nbsp;&nbsp;&nbsp;&nbsp;&nbsp;&nbsp;&nbsp;&nbsp;&nbsp;&nbsp;&nbsp;&nbsp;&nbsp;&nbsp;&nbsp;&nbsp;&nbsp;&nbsp;&nbsp;&nbsp;&nbsp;&nbsp;&nbsp;&nbsp;&nbsp;&nbsp;&nbsp;&nbsp;&nbsp;&nbsp;&nbsp;&nbsp;&nbsp;&nbsp;&nbsp;&nbsp;&nbsp;&nbsp;&nbsp;&nbsp;&nbsp;&nbsp;&nbsp;&nbsp;&nbsp;&nbsp;&nbsp;&nbsp;&nbsp;&nbsp;&nbsp;&nbsp;&nbsp;&nbsp;&nbsp;&nbsp;&nbsp;&nbsp;&nbsp;&nbsp;&nbsp;&nbsp;&nbsp;&nbsp;&nbsp;&nbsp;&nbsp;&nbsp;&nbsp;&nbsp;&nbsp;&nbsp;&nbsp;&nbsp;&nbsp;&nbsp;&nbsp;&nbsp;&nbsp;| \n",
    "|`-h`, `--help` | (*Optional*) Show the help message and exit. | "
   ]
  },
  {
   "cell_type": "markdown",
   "metadata": {},
   "source": [
    "## Use-case: Temporal evolution\n",
    "Here, we show how to use PhyliCS to investigate temporal evolution of CNVs. To this purpose, we take advantage of the results of one of the CNV analyses performed by Garvin et. al [1] to validate their tool (*Ginkgo*). Specifically, they analyzed the single-cell data of two samples coming from a breast tumor and its liver metastasis (T16P/M), used by Navin et al. [2] for their study on intra-tumor heterogeneity characterization. Since CNV calls are, publicly, available in Ginkgo github repository, we will skip the CNV calling stage and we will move directly to the analysis.\n",
    "\n",
    "### Single-sample analysis\n",
    "This stage runs on Ginkgo results. Specifically, it takes as input files,\n",
    "\n",
    "- `SegCopy`: a table containing he copy-number computed for each cell and position in the genome.\n",
    "- `results.txt.`: a table containing some useful statistics about each cell, such as its mean ploidy. \n",
    "\n",
    "Now, in order to perform single-sample analysis, type:"
   ]
  },
  {
   "cell_type": "code",
   "execution_count": 1,
   "metadata": {
    "scrolled": true
   },
   "outputs": [
    {
     "name": "stdout",
     "output_type": "stream",
     "text": [
      "Successfully created the directory data/navin_out/primary_post_CNV \n",
      "Successfully created the directory data/navin_out/metastasis_post_CNV \n",
      "[single_sample_post_analysis]  Complete analysis\n",
      "--------------------------------------------------------------------------------\n",
      "[single_sample_post_analysis]  Computing heatmap and phylogenetic tree (method = complete, metric = euclidean)\n",
      "[single_sample_post_analysis] -- cophenet coefficient: 0.9922210550775276\n",
      "--------------------------------------------------------------------------------\n",
      "[single_sample_post_analysis]  Plotting mean ploidy distribution\n",
      "--------------------------------------------------------------------------------\n",
      "[single_sample_post_analysis]  Computing mean CNV profile\n",
      "[single_sample_post_analysis] -- mean ploidy = 2.884057\n",
      "--------------------------------------------------------------------------------\n",
      "[single_sample_post_analysis]  Computing the optimal number of clusters\n",
      "[single_sample_post_analysis] -- n_clusters = 2 - The average silhouette_score is :0.856911221767078\n",
      "[single_sample_post_analysis] -- n_clusters = 3 - The average silhouette_score is :0.7855678423721268\n",
      "[single_sample_post_analysis] -- n_clusters = 4 - The average silhouette_score is :0.6544219549985235\n",
      "[single_sample_post_analysis] -- n_clusters = 5 - The average silhouette_score is :0.6279465552293995\n",
      "[single_sample_post_analysis] -- n_clusters = 6 - The average silhouette_score is :0.6166950469243341\n",
      "[single_sample_post_analysis] -- n_clusters = 7 - The average silhouette_score is :0.618030443500041\n",
      "[single_sample_post_analysis] -- n_clusters = 8 - The average silhouette_score is :0.6177944602638235\n",
      "[single_sample_post_analysis] -- n_clusters = 9 - The average silhouette_score is :0.6074577336128656\n",
      "[single_sample_post_analysis] -- n_clusters = 10 - The average silhouette_score is :0.5857551344717431\n",
      "[single_sample_post_analysis] -- n_clusters = 11 - The average silhouette_score is :0.5830621888724411\n",
      "[single_sample_post_analysis] -- n_clusters = 12 - The average silhouette_score is :0.4594612704670399\n",
      "[single_sample_post_analysis] -- n_clusters = 13 - The average silhouette_score is :0.4491406513615757\n",
      "[single_sample_post_analysis] -- n_clusters = 14 - The average silhouette_score is :0.44811382365943947\n",
      "[single_sample_post_analysis] -- n_clusters = 15 - The average silhouette_score is :0.4481566909114289\n",
      "[single_sample_post_analysis] -- n_clusters = 16 - The average silhouette_score is :0.39946560241683077\n",
      "[single_sample_post_analysis] -- n_clusters = 17 - The average silhouette_score is :0.40205122881783745\n",
      "[single_sample_post_analysis] -- The maximum average silhouette_score is: 0.856911221767078- The suggested number of clusters is = 2\n",
      "--------------------------------------------------------------------------------\n",
      "[single_sample_post_analysis]  Computing mean cnv profiles for clusters\n",
      "[single_sample_post_analysis] -- cluster 2, mean ploidy = 1.996669\n",
      "[single_sample_post_analysis] -- cluster 1, mean ploidy = 4.560235\n",
      "[single_sample_post_analysis]  Complete analysis\n",
      "--------------------------------------------------------------------------------\n",
      "[single_sample_post_analysis]  Computing heatmap and phylogenetic tree (method = complete, metric = euclidean)\n",
      "[single_sample_post_analysis] -- cophenet coefficient: 0.9983171628081212\n",
      "--------------------------------------------------------------------------------\n",
      "[single_sample_post_analysis]  Plotting mean ploidy distribution\n",
      "--------------------------------------------------------------------------------\n",
      "[single_sample_post_analysis]  Computing mean CNV profile\n",
      "[single_sample_post_analysis] -- mean ploidy = 3.035934\n",
      "--------------------------------------------------------------------------------\n",
      "[single_sample_post_analysis]  Computing the optimal number of clusters\n",
      "[single_sample_post_analysis] -- n_clusters = 2 - The average silhouette_score is :0.856830790976819\n",
      "[single_sample_post_analysis] -- n_clusters = 3 - The average silhouette_score is :0.8385005491292189\n",
      "[single_sample_post_analysis] -- n_clusters = 4 - The average silhouette_score is :0.5629006769841983\n",
      "[single_sample_post_analysis] -- n_clusters = 5 - The average silhouette_score is :0.5487766161639603\n",
      "[single_sample_post_analysis] -- n_clusters = 6 - The average silhouette_score is :0.5395722193661906\n",
      "[single_sample_post_analysis] -- n_clusters = 7 - The average silhouette_score is :0.539163763453575\n",
      "[single_sample_post_analysis] -- n_clusters = 8 - The average silhouette_score is :0.5163432427421001\n",
      "[single_sample_post_analysis] -- n_clusters = 9 - The average silhouette_score is :0.5199209159098855\n",
      "[single_sample_post_analysis] -- n_clusters = 10 - The average silhouette_score is :0.521214418961958\n",
      "[single_sample_post_analysis] -- n_clusters = 11 - The average silhouette_score is :0.5186342950886937\n",
      "[single_sample_post_analysis] -- n_clusters = 12 - The average silhouette_score is :0.4984745619720221\n",
      "[single_sample_post_analysis] -- n_clusters = 13 - The average silhouette_score is :0.49768735287361304\n",
      "[single_sample_post_analysis] -- n_clusters = 14 - The average silhouette_score is :0.49696659162116724\n",
      "[single_sample_post_analysis] -- n_clusters = 15 - The average silhouette_score is :0.49522008045511107\n",
      "[single_sample_post_analysis] -- n_clusters = 16 - The average silhouette_score is :0.4919713832518255\n",
      "[single_sample_post_analysis] -- n_clusters = 17 - The average silhouette_score is :0.48893360755753434\n",
      "[single_sample_post_analysis] -- The maximum average silhouette_score is: 0.856830790976819- The suggested number of clusters is = 2\n",
      "--------------------------------------------------------------------------------\n",
      "[single_sample_post_analysis]  Computing mean cnv profiles for clusters\n",
      "[single_sample_post_analysis] -- cluster 2, mean ploidy = 1.978341\n",
      "[single_sample_post_analysis] -- cluster 1, mean ploidy = 4.185492\n"
     ]
    }
   ],
   "source": [
    "!mkdir data/navin_out \n",
    "!phylics --run --run_single --input_dirs primary:data/navin_primary metastasis:data/navin_metastasis --output_path data/navin_out --verbose"
   ]
  },
  {
   "cell_type": "markdown",
   "metadata": {},
   "source": [
    "**Output**\n",
    "\n",
    "This command will generate, at the specified output path, one folder for each of the analyzed samples where all the output files will be stored. Specifically, \n",
    "\n",
    "| Directory | Content| \n",
    "| :---------| :------|\n",
    "|`data/navin_out/<sample_name>_post_CNV`|  <ul><li><code>heatmap.png</code>: heatmap and dendrogram computed by the phylogenetic algorithm. </li><li><code>mean_cnv.png</code>: average copy-number plot. It shows which is the average copy-number, computed on all cells, for each genome position.</li><li><code>mean_ploidy_distribution.svg</code>: mean ploidy density distribution plot. The mean ploidy is the mean copy-number of each single cell and this plot shows how the mean ploidies are distributed. It allows to high-light groups of pseudo-diploids cells.</li><li> <code>silhouette_results.png</code>: silhouette plot for each of the tested K's.</li><li> <code>per_k_silhouette_scores.csv</code>: average silhoutte scores for each of the  tested K's.</li><li> <code>silhouette_summary.png</code>: dot plot of the silhouette score for the tested K's.</li><li> <code>clusters.tsv</code>: composition and mean copy-number of the clusters built with the Silhouette method.</li><li> <code>clusters_heatmap.png</code>: heatmaps of the  clusters built with the Silhouette method.</li><li> <code>mean_cnv_clusters.png</code>: average copy-number of the genome of the  clusters built with the Silhouette method.</li></ul>\n",
    "\n",
    "### Cell filtering\n",
    "As shown in the dedicated section of the Supplementary materials, both samples contain a group of pseudo-diploid cells. To filter them out, let us take a look to the mean ploidy density plot in `mean_ploidy_distribution.svg` of the primary sample:\n",
    "\n",
    "![Primary mean ploidy density plot](data/navin_out/primary_post_CNV/mean_ploidy_distribution.png)\n",
    "\n",
    "We may assume that the pseudo-diploid cells have a ploidy ranging in the interval 1.5-2.3, so we filter them out. To do so, just type:\n",
    "    "
   ]
  },
  {
   "cell_type": "code",
   "execution_count": 2,
   "metadata": {
    "scrolled": true
   },
   "outputs": [
    {
     "name": "stdout",
     "output_type": "stream",
     "text": [
      "Cell filtering execution\n",
      "Successfully created the directory data/navin_out/primary_filtered \n",
      "[valid_cells]  Initial cells: 52\n",
      "[valid_cells]  Filtered out cells: 33\n",
      "[valid_cells]  Remaining cells: 19\n"
     ]
    }
   ],
   "source": [
    "!phylics --run_cell_filtering --input_dirs primary:data/navin_primary --intervals 1.5-2.3 --output_path data/navin_out --verbose"
   ]
  },
  {
   "cell_type": "markdown",
   "metadata": {},
   "source": [
    "Similarly, for the metastasis sample, type:"
   ]
  },
  {
   "cell_type": "code",
   "execution_count": 3,
   "metadata": {},
   "outputs": [
    {
     "name": "stdout",
     "output_type": "stream",
     "text": [
      "Cell filtering execution\n",
      "Successfully created the directory data/navin_out/metastasis_filtered \n",
      "[valid_cells]  Initial cells: 48\n",
      "[valid_cells]  Filtered out cells: 25\n",
      "[valid_cells]  Remaining cells: 23\n"
     ]
    }
   ],
   "source": [
    "!phylics --run_cell_filtering --input_dirs metastasis:data/navin_metastasis --intervals 1.5-2.3 --output_path data/navin_out --verbose"
   ]
  },
  {
   "cell_type": "markdown",
   "metadata": {},
   "source": [
    "**Output**\n",
    "The output of this command will go in another directory, created at the specified output path. Specifically,\n",
    "\n",
    "| Directory | Content| \n",
    "| :---------| :------|\n",
    "|`data/navin_out/<sample_name>_filtered`| <ul><li><code>SegCopy</code>: filtered CNV file.</li><li><code>results.txt</code>: filtered statistics file.</li></ul>\n",
    "\n",
    "### Multiple-sample analysis\n",
    "Finally, perform multiple-sample analysis on the filtered data, type:"
   ]
  },
  {
   "cell_type": "code",
   "execution_count": 4,
   "metadata": {
    "scrolled": true
   },
   "outputs": [
    {
     "name": "stdout",
     "output_type": "stream",
     "text": [
      "Successfully created the directory data/navin_out/primary_metastasis_postCNV \n",
      "[multi_sample_post_analysis]  CNV calls merging\n",
      "--------------------------------------------------------------------------------\n",
      "[multi_sample_post_analysis]  Complete analysis\n",
      "--------------------------------------------------------------------------------\n",
      "[multi_sample_post_analysis]  Heterogeneity score computation\n",
      "[multi_sample_post_analysis] -- Permutation test (n_permutations = 1000)\n",
      "[multi_sample_post_analysis] ---- iteration: 0\n",
      "[multi_sample_post_analysis] ---- iteration: 100\n",
      "[multi_sample_post_analysis] ---- iteration: 200\n",
      "[multi_sample_post_analysis] ---- iteration: 300\n",
      "[multi_sample_post_analysis] ---- iteration: 400\n",
      "[multi_sample_post_analysis] ---- iteration: 500\n",
      "[multi_sample_post_analysis] ---- iteration: 600\n",
      "[multi_sample_post_analysis] ---- iteration: 700\n",
      "[multi_sample_post_analysis] ---- iteration: 800\n",
      "[multi_sample_post_analysis] ---- iteration: 900\n",
      "[multi_sample_post_analysis] ---- Permutation test done (20.800936937332153s)\n",
      "[multi_sample_post_analysis] -- Samples: ['metastasis', 'primary']\n",
      "[multi_sample_post_analysis] -- The average heterogenity score is: 0.364985 (pvalue=0.0000)\n",
      "--------------------------------------------------------------------------------\n",
      "[multi_sample_post_analysis]  Computing heatmap and phylogenetic tree (method = complete, metric = euclidean)\n",
      "AxesSubplot(0.125,0.11;0.148443x0.611921)\n",
      "[multi_sample_post_analysis] -- Cophenet coefficient: 0.9625680935699645\n",
      "--------------------------------------------------------------------------------\n",
      "[multi_sample_post_analysis]  Computing the optimal number of clusters\n",
      "[multi_sample_post_analysis] -- n_clusters = 2 - The average silhouette_score is :0.6502696895757032\n",
      "[multi_sample_post_analysis] -- n_clusters = 3 - The average silhouette_score is :0.3530792547785568\n",
      "[multi_sample_post_analysis] -- n_clusters = 4 - The average silhouette_score is :0.38289063848373206\n",
      "[multi_sample_post_analysis] -- n_clusters = 5 - The average silhouette_score is :0.36164618691197536\n",
      "[multi_sample_post_analysis] -- n_clusters = 6 - The average silhouette_score is :0.35376130783748816\n",
      "[multi_sample_post_analysis] -- n_clusters = 7 - The average silhouette_score is :0.35390615282713506\n",
      "[multi_sample_post_analysis] -- n_clusters = 8 - The average silhouette_score is :0.2268146211962616\n",
      "[multi_sample_post_analysis] -- n_clusters = 9 - The average silhouette_score is :0.2265224514752305\n",
      "[multi_sample_post_analysis] -- n_clusters = 10 - The average silhouette_score is :0.2137245994311873\n",
      "[multi_sample_post_analysis] -- n_clusters = 11 - The average silhouette_score is :0.1975828156366297\n",
      "[multi_sample_post_analysis] -- n_clusters = 12 - The average silhouette_score is :0.18706350501060706\n",
      "[multi_sample_post_analysis] -- n_clusters = 13 - The average silhouette_score is :0.18659669825333203\n",
      "[multi_sample_post_analysis] -- n_clusters = 14 - The average silhouette_score is :0.15972681360241858\n",
      "[multi_sample_post_analysis] -- n_clusters = 15 - The average silhouette_score is :0.13364621850359018\n",
      "[multi_sample_post_analysis] -- n_clusters = 16 - The average silhouette_score is :0.1377349878382021\n",
      "[multi_sample_post_analysis] -- n_clusters = 17 - The average silhouette_score is :0.13440086471525695\n",
      "[multi_sample_post_analysis] -- The maximum average silhouette_score is: 0.6502696895757032- The suggested number of clusters is = 2\n",
      "--------------------------------------------------------------------------------\n",
      "[multi_sample_post_analysis]  Computing mean cnv profiles for clusters\n",
      "[multi_sample_post_analysis] -- cluster 2, mean ploidy = 2.887285\n",
      "[multi_sample_post_analysis] -- cluster 1, mean ploidy = 4.350013\n"
     ]
    }
   ],
   "source": [
    "!phylics --run --run_multiple --input_dirs primary:data/navin_out/primary_filtered metastasis:data/navin_out/metastasis_filtered  --output_path data/navin_out --verbose"
   ]
  },
  {
   "cell_type": "markdown",
   "metadata": {},
   "source": [
    "**Output** \n",
    "Also this command will generate a new directory at the specified output path where the results will be stored. Specifically,\n",
    "\n",
    "| Directory | Content| \n",
    "| :---------| :------|\n",
    "|`data/navin_out/<sample_name>_<sample_name>_post_CNV`| <ul><li><code>multi_sample_heatmap.png</code>: heatmap and dendrogram computed by the phylogenetic algorithm.</li><li><code>silhouette_results.png</code>: silhouette plot for each of the tested K's. </li><li> `per_k_silhouette_scores.csv`: average silhoutte scores for each of the  tested K's.</li><li> <code>silhouette_summary.png</code>: dot plot of the silhouette score for the tested K's.</li><li> <code>clusters.tsv</code>: composition and mean copy-number of the clusters built with the Silhouette method. </li><li> <code>clusters_heatmap.png</code>: heatmaps of the  clusters built with the Silhouette method. </li><li> <code>mean_cnv_clusters.png</code>: average copy-number of the genome of the  clusters built with the Silhouette method.</li><li> <code>het_score_violin_plot.png</code>: heterogeneity score permutation test distribution plot. </li><li><code>SegCopy_merged</code>: table containing the copy-numbers of the cells from all samples.</li></ul>\n",
    "    "
   ]
  },
  {
   "cell_type": "markdown",
   "metadata": {},
   "source": [
    "## Use-case: Spatial intra-tumor heterogeneity\n",
    "Here, we will just show the commands you need to execute to reproduce the first use-case. We used PhyliCS to study spatial intra-tumor heterogeneity by taking in account multiple samples taken from different regions of the same tumor. We used three public datasets provided by 10x Genomics on their official website [3].\n",
    "\n",
    "### Download data\n",
    "First, you need to download the allignment data and the file containing the cell barcodes, produced by Cell Ranger DNA, for each sample. To this purpose, type:\n",
    "\n",
    "```\n",
    "wget -O data/10x_breastA/possorted_bam.bam http://s3-us-west-2.amazonaws.com/10x.files/samples/cell-dna/1.1.0/breast_tissue_A_2k/breast_tissue_A_2k_possorted_bam.bam\n",
    "\n",
    "wget -O data/10x_breastA/per_cell_summary_metrics.csv http://cf.10xgenomics.com/samples/cell-dna/1.1.0/breast_tissue_A_2k/breast_tissue_A_2k_per_cell_summary_metrics.csv\n",
    "\n",
    "wget -O data/10x_breastB/possorted_bam.bam http://s3-us-west-2.amazonaws.com/10x.files/samples/cell-dna/1.1.0/breast_tissue_B_2k/breast_tissue_B_2k_possorted_bam.bam\n",
    "\n",
    "wget -O data/10x_breastB/per_cell_summary_metrics.csv http://cf.10xgenomics.com/samples/cell-dna/1.1.0/breast_tissue_B_2k/breast_tissue_B_2k_per_cell_summary_metrics.csv\n",
    "\n",
    "wget -O data/10x_breastC/possorted_bam.bam http://s3-us-west-2.amazonaws.com/10x.files/samples/cell-dna/1.1.0/breast_tissue_C_2k/breast_tissue_C_2k_possorted_bam.bam\n",
    "\n",
    "wget -O data/10x_breastB/per_cell_summary_metrics.csv http://cf.10xgenomics.com/samples/cell-dna/1.1.0/breast_tissue_C_2k/breast_tissue_C_2k_per_cell_summary_metrics.csv\n",
    "```\n",
    "\n",
    "### Data preparation\n",
    "Then, you need to run the data-preparation module on each sample. It will call `sctools_demultiplex` to split 10x allignment files into single-cell allignemnt files, filter-out poor quality reads and multi-mappers and produce single-cell .bed files. You can do it by, simply, typing:\n",
    "\n",
    "```\n",
    "phylics --run_10x_preproc --input_dirs breast_A:data/10x_breastA --output_path data --verbose\n",
    "\n",
    "phylics --run_10x_preproc --input_dirs breast_B:data/10x_breastB --output_path data --verbose\n",
    "\n",
    "phylics --run_10x_preproc --input_dirs breast_C:data/10x_breastC --output_path data --verbose\n",
    "```\n",
    "\n",
    "### Data analysis\n",
    "Now, you can run the complete pipeline, without going step by step. To do so, type:\n",
    "\n",
    "```\n",
    "mkdir 10x_breast_out\n",
    "phylics --run --input_dirs breast_A:data/breast_A_sc breast_B:data/breast_B_sc breast_C:data/breast_C_sc --genome GrCh38 --binning variable_500000_101_bwa --output_path 10x_breast_out --tasks 8 --verbose\n",
    "```\n",
    "\n",
    "In case you prefer executing each stage separately, you may use and, properly, modify the instructions showed in the previous example, after calling the CNV stage in this way:\n",
    "\n",
    "```phylics --run --run_cnvs --input_dirs breast_A:data/10x_breast_out/breast_A_sc breast_B:data/breast_B_sc breast_C:data/breast_C_sc --genome GrCh38 --binning variable_500000_101_bwa --verbose```\n",
    "\n"
   ]
  },
  {
   "cell_type": "markdown",
   "metadata": {},
   "source": [
    "## References\n",
    "1. Tyler Garvin, Robert Aboukhalil, Jude Kendall, Timour Baslan, Gurinder S Atwal, James Hicks, Michael Wigler, and Michael C Schatz. Interactive analysis and assessment of single-cell copy-number variations. Nature methods, 12(11):1058, 2015.\n",
    "\n",
    "2. Nicholas Navin, Alexander Krasnitz, Linda Rodgers, Kerry Cook, Jennifer Meth, Jude Kendall, Michael Riggs, Yvonne Eberling, Jennifer Troge, Vladimir Grubor, et al. Inferring tumor progression from genomic heterogeneity. Genome research, 20(1):68–80, 2010.\n",
    "\n",
    "3. 10x Genomics. 10x Genomics: Biology at True Resolution, 2019. URL https://www.10xgenomics.com.\n"
   ]
  }
 ],
 "metadata": {
  "kernelspec": {
   "display_name": "Python 3",
   "language": "python",
   "name": "python3"
  },
  "language_info": {
   "codemirror_mode": {
    "name": "ipython",
    "version": 3
   },
   "file_extension": ".py",
   "mimetype": "text/x-python",
   "name": "python",
   "nbconvert_exporter": "python",
   "pygments_lexer": "ipython3",
   "version": "3.6.7"
  }
 },
 "nbformat": 4,
 "nbformat_minor": 2
}
