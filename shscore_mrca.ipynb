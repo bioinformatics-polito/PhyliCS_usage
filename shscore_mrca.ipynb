{
 "cells": [
  {
   "cell_type": "markdown",
   "metadata": {},
   "source": [
    "# SHscore and evolutionary distance\n",
    "\n",
    "Here you can find the code to reproduce the results shown in the section **Experiment 2: SHscore and evolutionary distance** of the paper. SHscores and MRCA distances have been precomputed because the computation, here, would take too much time. \n",
    "\n",
    "You may refer to the other notebooks in the current repository or to the documentation at the official [PhyliCS repository](https://github.com/bioinformatics-polito/PhyliCS) to learn how to compute the SHscore.\n",
    "\n",
    "## Experiment 1: SHscore VS MRCA distance"
   ]
  },
  {
   "cell_type": "code",
   "execution_count": null,
   "metadata": {},
   "outputs": [],
   "source": []
  }
 ],
 "metadata": {
  "kernelspec": {
   "display_name": "phylics-v1.0.6",
   "language": "python",
   "name": "py37"
  },
  "language_info": {
   "codemirror_mode": {
    "name": "ipython",
    "version": 3
   },
   "file_extension": ".py",
   "mimetype": "text/x-python",
   "name": "python",
   "nbconvert_exporter": "python",
   "pygments_lexer": "ipython3",
   "version": "3.7.0"
  }
 },
 "nbformat": 4,
 "nbformat_minor": 4
}
