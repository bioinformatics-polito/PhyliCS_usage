{
 "cells": [
  {
   "cell_type": "markdown",
   "metadata": {},
   "source": [
    "# SHscore validation on simulated data\n",
    "\n",
    "## SHscore statistics\n",
    "Here you find the code you need to compute the statistics on SHscores computed on simulated datasets. \n",
    "SHscores have been precomputed because the computation, here, would take too much time. \n",
    "\n",
    "You may refer to the other notebooks in the current repository or to the documentation at the official [PhyliCS repository](https://github.com/bioinformatics-polito/PhyliCS) to learn how to compute the SHscore.\n",
    "\n",
    "\n",
    "### Experiment1: spatial segregation and intermixing"
   ]
  },
  {
   "cell_type": "code",
   "execution_count": 1,
   "metadata": {},
   "outputs": [
    {
     "data": {
      "text/html": [
       "<div>\n",
       "<style scoped>\n",
       "    .dataframe tbody tr th:only-of-type {\n",
       "        vertical-align: middle;\n",
       "    }\n",
       "\n",
       "    .dataframe tbody tr th {\n",
       "        vertical-align: top;\n",
       "    }\n",
       "\n",
       "    .dataframe thead th {\n",
       "        text-align: right;\n",
       "    }\n",
       "</style>\n",
       "<table border=\"1\" class=\"dataframe\">\n",
       "  <thead>\n",
       "    <tr style=\"text-align: right;\">\n",
       "      <th></th>\n",
       "      <th>Het</th>\n",
       "      <th>Hom</th>\n",
       "    </tr>\n",
       "  </thead>\n",
       "  <tbody>\n",
       "    <tr>\n",
       "      <th>0</th>\n",
       "      <td>-0.010599</td>\n",
       "      <td>0.152150</td>\n",
       "    </tr>\n",
       "    <tr>\n",
       "      <th>1</th>\n",
       "      <td>-0.004221</td>\n",
       "      <td>0.122702</td>\n",
       "    </tr>\n",
       "    <tr>\n",
       "      <th>2</th>\n",
       "      <td>-0.020251</td>\n",
       "      <td>0.101908</td>\n",
       "    </tr>\n",
       "    <tr>\n",
       "      <th>3</th>\n",
       "      <td>-0.014684</td>\n",
       "      <td>0.220385</td>\n",
       "    </tr>\n",
       "    <tr>\n",
       "      <th>4</th>\n",
       "      <td>-0.007606</td>\n",
       "      <td>0.209253</td>\n",
       "    </tr>\n",
       "  </tbody>\n",
       "</table>\n",
       "</div>"
      ],
      "text/plain": [
       "        Het       Hom\n",
       "0 -0.010599  0.152150\n",
       "1 -0.004221  0.122702\n",
       "2 -0.020251  0.101908\n",
       "3 -0.014684  0.220385\n",
       "4 -0.007606  0.209253"
      ]
     },
     "execution_count": 1,
     "metadata": {},
     "output_type": "execute_result"
    }
   ],
   "source": [
    "import os\n",
    "import pandas as pd \n",
    "from math import nan \n",
    "import numpy as np\n",
    "import matplotlib.pyplot as plt \n",
    "import seaborn as sns\n",
    "from scipy.stats import mannwhitneyu\n",
    "\n",
    "SPATIAL_DIR = \"data/simulations/spatial\"\n",
    "\n",
    "samples=os.listdir(SPATIAL_DIR)\n",
    "\n",
    "# collect spatial simulation scores (already computed)\n",
    "sh_scores = pd.DataFrame(columns=[\"Het\", \"Hom\"]) \n",
    "for sample in samples:\n",
    "    sample_path = os.path.join(SPATIAL_DIR, sample)\n",
    "    if os.path.isdir(sample_path):\n",
    "        het_score = nan \n",
    "        hom_score = nan\n",
    "        f = os.path.join(sample_path, \"hom\", \"heterogeneity_scores.csv\")\n",
    "        hom_score = pd.read_csv(f, sep = \"\\t\").iloc[0][\"het_score\"].astype(float)\n",
    "        f = os.path.join(sample_path, \"het\", \"heterogeneity_scores.csv\")\n",
    "        het_score = pd.read_csv(f, sep = \"\\t\").iloc[0][\"het_score\"].astype(float)\n",
    "        sh_scores = sh_scores.append({\"Het\":het_score, \"Hom\":hom_score}, ignore_index=True)\n",
    " \n",
    "sh_scores.head()\n"
   ]
  },
  {
   "cell_type": "code",
   "execution_count": 2,
   "metadata": {},
   "outputs": [
    {
     "name": "stdout",
     "output_type": "stream",
     "text": [
      "Mann-whitney-u: 3.533035965194466e-18\n"
     ]
    }
   ],
   "source": [
    "stat, p1 =  mannwhitneyu(sh_scores['Het'].dropna(), sh_scores['Hom'].dropna())\n",
    "print(\"Mann-whitney-u: \" + str(p1))"
   ]
  },
  {
   "cell_type": "code",
   "execution_count": 3,
   "metadata": {},
   "outputs": [
    {
     "data": {
      "image/png": "[encoded data removed]",
      "text/plain": [
       "<Figure size 432x288 with 1 Axes>"
      ]
     },
     "metadata": {},
     "output_type": "display_data"
    }
   ],
   "source": [
    "sns.set(font_scale=1.5)\n",
    "sns.violinplot(data=sh_scores)\n",
    "plt.savefig(os.path.join(SPATIAL_DIR, \"aggregate_het_scores_violin_spatial.png\"))"
   ]
  },
  {
   "cell_type": "code",
   "execution_count": 4,
   "metadata": {},
   "outputs": [
    {
     "data": {
      "text/html": [
       "<div>\n",
       "<style scoped>\n",
       "    .dataframe tbody tr th:only-of-type {\n",
       "        vertical-align: middle;\n",
       "    }\n",
       "\n",
       "    .dataframe tbody tr th {\n",
       "        vertical-align: top;\n",
       "    }\n",
       "\n",
       "    .dataframe thead th {\n",
       "        text-align: right;\n",
       "    }\n",
       "</style>\n",
       "<table border=\"1\" class=\"dataframe\">\n",
       "  <thead>\n",
       "    <tr style=\"text-align: right;\">\n",
       "      <th></th>\n",
       "      <th>Het</th>\n",
       "      <th>Hom</th>\n",
       "    </tr>\n",
       "  </thead>\n",
       "  <tbody>\n",
       "    <tr>\n",
       "      <th>count</th>\n",
       "      <td>50.000000</td>\n",
       "      <td>50.000000</td>\n",
       "    </tr>\n",
       "    <tr>\n",
       "      <th>mean</th>\n",
       "      <td>-0.011163</td>\n",
       "      <td>0.152459</td>\n",
       "    </tr>\n",
       "    <tr>\n",
       "      <th>std</th>\n",
       "      <td>0.003506</td>\n",
       "      <td>0.051984</td>\n",
       "    </tr>\n",
       "    <tr>\n",
       "      <th>min</th>\n",
       "      <td>-0.020251</td>\n",
       "      <td>0.043447</td>\n",
       "    </tr>\n",
       "    <tr>\n",
       "      <th>25%</th>\n",
       "      <td>-0.013067</td>\n",
       "      <td>0.117336</td>\n",
       "    </tr>\n",
       "    <tr>\n",
       "      <th>50%</th>\n",
       "      <td>-0.010597</td>\n",
       "      <td>0.151503</td>\n",
       "    </tr>\n",
       "    <tr>\n",
       "      <th>75%</th>\n",
       "      <td>-0.009084</td>\n",
       "      <td>0.181446</td>\n",
       "    </tr>\n",
       "    <tr>\n",
       "      <th>max</th>\n",
       "      <td>-0.004221</td>\n",
       "      <td>0.294926</td>\n",
       "    </tr>\n",
       "  </tbody>\n",
       "</table>\n",
       "</div>"
      ],
      "text/plain": [
       "             Het        Hom\n",
       "count  50.000000  50.000000\n",
       "mean   -0.011163   0.152459\n",
       "std     0.003506   0.051984\n",
       "min    -0.020251   0.043447\n",
       "25%    -0.013067   0.117336\n",
       "50%    -0.010597   0.151503\n",
       "75%    -0.009084   0.181446\n",
       "max    -0.004221   0.294926"
      ]
     },
     "execution_count": 4,
     "metadata": {},
     "output_type": "execute_result"
    }
   ],
   "source": [
    "sh_scores.describe()"
   ]
  },
  {
   "cell_type": "code",
   "execution_count": 5,
   "metadata": {},
   "outputs": [
    {
     "name": "stdout",
     "output_type": "stream",
     "text": [
      "IQR\n"
     ]
    },
    {
     "data": {
      "text/plain": [
       "Het    0.003983\n",
       "Hom    0.064110\n",
       "dtype: float64"
      ]
     },
     "execution_count": 5,
     "metadata": {},
     "output_type": "execute_result"
    }
   ],
   "source": [
    "third_quart = sh_scores.quantile(0.75)\n",
    "first_quart = sh_scores.quantile(0.25)\n",
    "IQR = third_quart - first_quart\n",
    "print(\"IQR\")\n",
    "IQR"
   ]
  },
  {
   "cell_type": "markdown",
   "metadata": {},
   "source": [
    "### Experiment2: early and late metastasis spreading"
   ]
  },
  {
   "cell_type": "code",
   "execution_count": 6,
   "metadata": {},
   "outputs": [
    {
     "data": {
      "text/html": [
       "<div>\n",
       "<style scoped>\n",
       "    .dataframe tbody tr th:only-of-type {\n",
       "        vertical-align: middle;\n",
       "    }\n",
       "\n",
       "    .dataframe tbody tr th {\n",
       "        vertical-align: top;\n",
       "    }\n",
       "\n",
       "    .dataframe thead th {\n",
       "        text-align: right;\n",
       "    }\n",
       "</style>\n",
       "<table border=\"1\" class=\"dataframe\">\n",
       "  <thead>\n",
       "    <tr style=\"text-align: right;\">\n",
       "      <th></th>\n",
       "      <th>MetEarly</th>\n",
       "      <th>MetLate</th>\n",
       "    </tr>\n",
       "  </thead>\n",
       "  <tbody>\n",
       "    <tr>\n",
       "      <th>0</th>\n",
       "      <td>0.246488</td>\n",
       "      <td>0.248649</td>\n",
       "    </tr>\n",
       "    <tr>\n",
       "      <th>1</th>\n",
       "      <td>0.214796</td>\n",
       "      <td>0.285811</td>\n",
       "    </tr>\n",
       "    <tr>\n",
       "      <th>2</th>\n",
       "      <td>0.219802</td>\n",
       "      <td>0.283999</td>\n",
       "    </tr>\n",
       "    <tr>\n",
       "      <th>3</th>\n",
       "      <td>0.279430</td>\n",
       "      <td>0.373420</td>\n",
       "    </tr>\n",
       "    <tr>\n",
       "      <th>4</th>\n",
       "      <td>0.384243</td>\n",
       "      <td>0.275313</td>\n",
       "    </tr>\n",
       "  </tbody>\n",
       "</table>\n",
       "</div>"
      ],
      "text/plain": [
       "   MetEarly   MetLate\n",
       "0  0.246488  0.248649\n",
       "1  0.214796  0.285811\n",
       "2  0.219802  0.283999\n",
       "3  0.279430  0.373420\n",
       "4  0.384243  0.275313"
      ]
     },
     "execution_count": 6,
     "metadata": {},
     "output_type": "execute_result"
    }
   ],
   "source": [
    "MET_DIR = \"data/simulations/metastasis\"\n",
    "EXPS = [\"MetEarly\", \"MetLate\"]\n",
    "\n",
    "#samples=os.listdir(MET_DIR)\n",
    "\n",
    "# collect metastasis simulation scores (already computed)\n",
    "sh_scores = pd.DataFrame() \n",
    "for exp in EXPS:\n",
    "    col = []\n",
    "    prefix = os.path.join(MET_DIR, exp)\n",
    "    for sample in samples:\n",
    "        sample_path = os.path.join(prefix, sample)\n",
    "        if os.path.isdir(sample_path):\n",
    "            f = os.path.join(sample_path, \"heterogeneity_scores.csv\")\n",
    "            sh_score = pd.read_csv(f, sep = \"\\t\")[\"het_score\"].astype(float).values[0]\n",
    "            col.append(sh_score)\n",
    "    sh_scores[exp] = col\n",
    " \n",
    "sh_scores.head()"
   ]
  },
  {
   "cell_type": "code",
   "execution_count": 7,
   "metadata": {},
   "outputs": [
    {
     "name": "stdout",
     "output_type": "stream",
     "text": [
      "Mann-whitney-u: 0.002942859612686273\n"
     ]
    }
   ],
   "source": [
    "stat, p1 =  mannwhitneyu(sh_scores['MetEarly'].dropna(), sh_scores['MetLate'].dropna())\n",
    "print(\"Mann-whitney-u: \" + str(p1))"
   ]
  },
  {
   "cell_type": "code",
   "execution_count": 8,
   "metadata": {},
   "outputs": [
    {
     "data": {
      "image/png": "[encoded data removed]",
      "text/plain": [
       "<Figure size 432x288 with 1 Axes>"
      ]
     },
     "metadata": {},
     "output_type": "display_data"
    }
   ],
   "source": [
    "sns.set(font_scale=1.5)\n",
    "sns.violinplot(data=sh_scores)\n",
    "plt.savefig(os.path.join(SPATIAL_DIR, \"aggregate_het_scores_violin_met.png\"))"
   ]
  },
  {
   "cell_type": "code",
   "execution_count": 9,
   "metadata": {},
   "outputs": [
    {
     "data": {
      "text/html": [
       "<div>\n",
       "<style scoped>\n",
       "    .dataframe tbody tr th:only-of-type {\n",
       "        vertical-align: middle;\n",
       "    }\n",
       "\n",
       "    .dataframe tbody tr th {\n",
       "        vertical-align: top;\n",
       "    }\n",
       "\n",
       "    .dataframe thead th {\n",
       "        text-align: right;\n",
       "    }\n",
       "</style>\n",
       "<table border=\"1\" class=\"dataframe\">\n",
       "  <thead>\n",
       "    <tr style=\"text-align: right;\">\n",
       "      <th></th>\n",
       "      <th>MetEarly</th>\n",
       "      <th>MetLate</th>\n",
       "    </tr>\n",
       "  </thead>\n",
       "  <tbody>\n",
       "    <tr>\n",
       "      <th>count</th>\n",
       "      <td>50.000000</td>\n",
       "      <td>50.000000</td>\n",
       "    </tr>\n",
       "    <tr>\n",
       "      <th>mean</th>\n",
       "      <td>0.284679</td>\n",
       "      <td>0.325422</td>\n",
       "    </tr>\n",
       "    <tr>\n",
       "      <th>std</th>\n",
       "      <td>0.082631</td>\n",
       "      <td>0.060854</td>\n",
       "    </tr>\n",
       "    <tr>\n",
       "      <th>min</th>\n",
       "      <td>0.103382</td>\n",
       "      <td>0.195173</td>\n",
       "    </tr>\n",
       "    <tr>\n",
       "      <th>25%</th>\n",
       "      <td>0.221824</td>\n",
       "      <td>0.282963</td>\n",
       "    </tr>\n",
       "    <tr>\n",
       "      <th>50%</th>\n",
       "      <td>0.266158</td>\n",
       "      <td>0.319743</td>\n",
       "    </tr>\n",
       "    <tr>\n",
       "      <th>75%</th>\n",
       "      <td>0.345860</td>\n",
       "      <td>0.366470</td>\n",
       "    </tr>\n",
       "    <tr>\n",
       "      <th>max</th>\n",
       "      <td>0.460590</td>\n",
       "      <td>0.456582</td>\n",
       "    </tr>\n",
       "  </tbody>\n",
       "</table>\n",
       "</div>"
      ],
      "text/plain": [
       "        MetEarly    MetLate\n",
       "count  50.000000  50.000000\n",
       "mean    0.284679   0.325422\n",
       "std     0.082631   0.060854\n",
       "min     0.103382   0.195173\n",
       "25%     0.221824   0.282963\n",
       "50%     0.266158   0.319743\n",
       "75%     0.345860   0.366470\n",
       "max     0.460590   0.456582"
      ]
     },
     "execution_count": 9,
     "metadata": {},
     "output_type": "execute_result"
    }
   ],
   "source": [
    "sh_scores.describe()"
   ]
  },
  {
   "cell_type": "code",
   "execution_count": 10,
   "metadata": {},
   "outputs": [
    {
     "name": "stdout",
     "output_type": "stream",
     "text": [
      "IQR\n"
     ]
    },
    {
     "data": {
      "text/plain": [
       "MetEarly    0.124036\n",
       "MetLate     0.083507\n",
       "dtype: float64"
      ]
     },
     "execution_count": 10,
     "metadata": {},
     "output_type": "execute_result"
    }
   ],
   "source": [
    "third_quart = sh_scores.quantile(0.75)\n",
    "first_quart = sh_scores.quantile(0.25)\n",
    "IQR = third_quart - first_quart\n",
    "print(\"IQR\")\n",
    "IQR"
   ]
  }
 ],
 "metadata": {
  "kernelspec": {
   "display_name": "Python 3",
   "language": "python",
   "name": "python3"
  },
  "language_info": {
   "codemirror_mode": {
    "name": "ipython",
    "version": 3
   },
   "file_extension": ".py",
   "mimetype": "text/x-python",
   "name": "python",
   "nbconvert_exporter": "python",
   "pygments_lexer": "ipython3",
   "version": "3.7.0"
  }
 },
 "nbformat": 4,
 "nbformat_minor": 4
}
