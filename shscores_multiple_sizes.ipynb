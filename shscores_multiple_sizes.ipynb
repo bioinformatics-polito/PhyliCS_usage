{
 "cells": [
  {
   "cell_type": "markdown",
   "metadata": {},
   "source": [
    "# SHscore and CN structural features\n",
    "\n",
    "Here you can find the code to reproduce the results shown in the section **Experiment 1: SHscore on synthetic data**, subsection **SHscore indipendence from CNA size and gained copy number** of the paper. SHscores distances have been precomputed because the computation, here, would take too much time.\n",
    "\n",
    "You may refer to the other notebooks in the current repository or to the documentation at the official [PhyliCS repository](https://github.com/bioinformatics-polito/PhyliCS) to learn how to compute the SHscore."
   ]
  },
  {
   "cell_type": "code",
   "execution_count": 2,
   "metadata": {},
   "outputs": [
    {
     "name": "stdout",
     "output_type": "stream",
     "text": [
      "Pearson correlation (mean CNA size): c = -0.10056726730324786, p=0.3194661381807022\n",
      "Pearson correlation (mean gained copies): c = -0.10855902612931499, p=0.2823197478581353\n"
     ]
    }
   ],
   "source": [
    "import os, sys\n",
    "import argparse\n",
    "import pandas as pd\n",
    "import matplotlib.pyplot as plt\n",
    "import seaborn as sns \n",
    "from scipy.stats import pearsonr, gaussian_kde\n",
    "from mpl_toolkits.mplot3d import Axes3D\n",
    "import numpy as np\n",
    "\n",
    "DATA_DIR = \"data/simulations/multiple_sizes\"\n",
    "\n",
    "def compute_correlations_and_plot3D(shscores, thetas, rec_ps, outpath):\n",
    "    c1, p1 = pearsonr(shscores, thetas)\n",
    "    print(\"Pearson correlation (mean CNA size): c = {}, p={}\".format(c1, p1))\n",
    "    \n",
    "    c2, p2 = pearsonr(shscores, rec_ps)\n",
    "    print(\"Pearson correlation (mean gained copies): c = {}, p={}\".format(c2, p2))\n",
    "    \n",
    "    x = thetas\n",
    "    y = rec_ps\n",
    "    z = shscores\n",
    "    fig = plt.figure()\n",
    "    ax = fig.add_subplot(projection='3d')\n",
    "    xyz = np.vstack([x,y,z])\n",
    "    k = gaussian_kde(xyz)(xyz)\n",
    "    plot = ax.scatter(x, y, z, c=k, s=5)\n",
    "    #rotate xy plane\n",
    "    ax.azim = -60\n",
    "    ax.dist = 10\n",
    "    ax.elev = 10\n",
    "    ax.set_xlabel(\"Mean CNA size\", linespacing=3.2)\n",
    "    ax.set_ylabel(\"Mean gained copy numbers\", linespacing=3.2)\n",
    "    ax.set_zlabel(\"SHscore\", linespacing=3.2)\n",
    "    cax = fig.add_axes([0.15, 0.03, 0.03, 0.80])\n",
    "    fig.colorbar(plot, cax=cax)\n",
    "    plt.savefig(os.path.join(outpath, \"shscores_pearson.png\"))\n",
    "    plt.close(\"all\")\n",
    "    \n",
    "table = pd.read_csv(os.path.join(DATA_DIR, \"shscores.tsv\"), sep=\"\\t\")\n",
    "compute_correlations_and_plot3D(table.sh_score.values, table.theta.values, table[\"1/p\"].values, DATA_DIR)"
   ]
  },
  {
   "cell_type": "markdown",
   "metadata": {},
   "source": [
    "![SHscore vs CN features correlation](data/simulations/multiple_sizes/shscores_pearson.png)"
   ]
  },
  {
   "cell_type": "code",
   "execution_count": null,
   "metadata": {},
   "outputs": [],
   "source": []
  }
 ],
 "metadata": {
  "kernelspec": {
   "display_name": "phylics-v1.0.6",
   "language": "python",
   "name": "py37"
  },
  "language_info": {
   "codemirror_mode": {
    "name": "ipython",
    "version": 3
   },
   "file_extension": ".py",
   "mimetype": "text/x-python",
   "name": "python",
   "nbconvert_exporter": "python",
   "pygments_lexer": "ipython3",
   "version": "3.7.0"
  }
 },
 "nbformat": 4,
 "nbformat_minor": 4
}
